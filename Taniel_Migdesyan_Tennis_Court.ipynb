{
 "cells": [
  {
   "cell_type": "code",
   "execution_count": 1,
   "id": "2dfaa48a",
   "metadata": {},
   "outputs": [],
   "source": [
    "import matplotlib.patches as patches\n",
    "from matplotlib.lines import Line2D\n",
    "import matplotlib.pyplot as plt\n",
    "\n",
    "def draw_rectangle(ax, x, y, width, height, **kwargs):\n",
    "    rectangle = patches.Rectangle((x, y), width, height, **kwargs)\n",
    "    ax.add_patch(rectangle)\n",
    "    return rectangle\n",
    "\n",
    "def draw_line(ax, x, y, **kwargs):\n",
    "    line = Line2D(x, y, **kwargs)\n",
    "    ax.add_artist(line)\n",
    "\n",
    "def draw_ellipse(ax, x, y, width, height, **kwargs):\n",
    "    ellipse = patches.Ellipse((x, y), width, height, **kwargs)\n",
    "    ax.add_patch(ellipse)\n",
    "\n",
    "def draw_arc(ax, x, y, width, height, theta1, theta2, **kwargs):\n",
    "    arc = patches.Arc((x, y), width, height, theta1=theta1, theta2=theta2, **kwargs)\n",
    "    ax.add_patch(arc)"
   ]
  },
  {
   "cell_type": "code",
   "execution_count": 2,
   "id": "472e1611",
   "metadata": {},
   "outputs": [],
   "source": [
    "def playing_surface():\n",
    "\n",
    "    fig, ax = plt.subplots()\n",
    "\n",
    "    #I'm going tp be doing a tennis court of Stade IGA, Montreal\n",
    "    \n",
    "    #Did each dimensions by feet & inches. Therefore, all the numbers are based on feet.\n",
    "    \n",
    "    #The websites I used to find the dimensions were:\n",
    "    #https://matplotlib.org/\n",
    "    #https://tenniscompanion.org/a-diagram-of-tennis-court-dimensions-layout/\n",
    "    #https://www.perfect-tennis.com/tennis-court-dimensions/\n",
    "    \n",
    "    \n",
    "    #Found a list of colours at https://matplotlib.org/\n",
    "    #Decided to pick different and unique colours, that would closely resemble to the courts at Jarry Park Stadium\n",
    "    draw_rectangle(ax,x=0,y=0, width=120, height=60, color=\"mediumseagreen\")#Outside court\n",
    "    draw_rectangle(ax,x=21,y=12, width=78, height=36, color=\"steelblue\")#Inside court\n",
    "    \n",
    "    #Wasn't able to use the draw line function. Found alternative way, using plt.plot\n",
    "    plt.plot([21, 99], [12, 12], color=\"white\")#Bottom doubles sideline\n",
    "    plt.plot([21, 99], [48, 48], color=\"white\")#Top doubles sideline\n",
    "    plt.plot([21, 21], [12, 48], color=\"white\")#Left baseline\n",
    "    plt.plot([99, 99], [12, 48], color=\"white\")#Right baseline\n",
    "    plt.plot([21, 99], [16.5, 16.5], color=\"white\")#Bottom singles sideline\n",
    "    plt.plot([21, 99], [43.5, 43.5], color=\"white\")#Top singles sideline\n",
    "    plt.plot([39, 39], [16.5, 43.5], color=\"white\")#Left service line\n",
    "    plt.plot([81, 81], [16.5, 43.5], color=\"white\")#Right service line\n",
    "    plt.plot([39,81], [30, 30], color=\"white\")#Center service line\n",
    "    plt.plot([60,60], [9, 51], color=\"white\")#Net\n",
    "    \n",
    "    plt.plot([21,21.33], [30, 30], color=\"white\")#Left center mark\n",
    "    plt.plot([98.66,99], [30, 30], color=\"white\")#Right center mark\n",
    "    #Center marks are 4 inches long, in which, it's a 1/3 of a feet. Hence the 21.33 and 98.66.\n",
    "    \n",
    "    #Did a bit of research on hwo to write text with matplotlib. Found it at https://matplotlib.org/ \n",
    "    plt.text(10.5, 24.5, 'MONTRÉAL', dict(size=10), color=\"white\", rotation=90.) #Montreal name at the left side\n",
    "    plt.text(109.5, 24.5, 'MONTRÉAL', dict(size=10), color=\"white\", rotation=90.) #... at the right side   \n",
    "\n",
    "    ax.set_xlim([0, 120])\n",
    "    ax.set_ylim([0, 60])\n",
    "    plt.axis('off')\n",
    "    plt.show()\n",
    "    return fig, ax"
   ]
  },
  {
   "cell_type": "code",
   "execution_count": 3,
   "id": "62b0b534",
   "metadata": {},
   "outputs": [
    {
     "data": {
      "image/png": "[encoded data removed]",
      "text/plain": [
       "<Figure size 640x480 with 1 Axes>"
      ]
     },
     "metadata": {},
     "output_type": "display_data"
    },
    {
     "data": {
      "text/plain": [
       "(<Figure size 640x480 with 1 Axes>, <AxesSubplot:>)"
      ]
     },
     "execution_count": 3,
     "metadata": {},
     "output_type": "execute_result"
    }
   ],
   "source": [
    "playing_surface()"
   ]
  },
  {
   "cell_type": "code",
   "execution_count": 7,
   "id": "17567e25",
   "metadata": {},
   "outputs": [
    {
     "data": {
      "text/plain": [
       "<Figure size 640x480 with 0 Axes>"
      ]
     },
     "metadata": {},
     "output_type": "display_data"
    }
   ],
   "source": [
    "import matplotlib.pyplot as plt\n",
    "plt.savefig('Taniel_Migdesyan_Tennis_Court.png')"
   ]
  },
  {
   "cell_type": "code",
   "execution_count": null,
   "id": "6a69b44f",
   "metadata": {},
   "outputs": [],
   "source": []
  }
 ],
 "metadata": {
  "kernelspec": {
   "display_name": "Python 3 (ipykernel)",
   "language": "python",
   "name": "python3"
  },
  "language_info": {
   "codemirror_mode": {
    "name": "ipython",
    "version": 3
   },
   "file_extension": ".py",
   "mimetype": "text/x-python",
   "name": "python",
   "nbconvert_exporter": "python",
   "pygments_lexer": "ipython3",
   "version": "3.10.4"
  }
 },
 "nbformat": 4,
 "nbformat_minor": 5
}
